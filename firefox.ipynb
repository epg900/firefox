{
  "nbformat": 4,
  "nbformat_minor": 0,
  "metadata": {
    "colab": {
      "provenance": []
    },
    "kernelspec": {
      "name": "python3",
      "display_name": "Python 3"
    },
    "language_info": {
      "name": "python"
    }
  },
  "cells": [
    {
      "cell_type": "code",
      "execution_count": null,
      "metadata": {
        "colab": {
          "base_uri": "https://localhost:8080/"
        },
        "id": "khTGwiRSi_9z",
        "outputId": "92bff907-a4b3-4dee-8382-7b17ee744ca6"
      },
      "outputs": [
        {
          "output_type": "stream",
          "name": "stderr",
          "text": [
            ""
          ]
        }
      ],
      "source": [
        "# @title Docker Firefox\n",
        "from threading import Timer\n",
        "from IPython.display import HTML, clear_output\n",
        "from subprocess import Popen, PIPE\n",
        "from tqdm import tqdm\n",
        "pbar = tqdm(range(10))\n",
        "\n",
        "\n",
        "!pip install udocker  > /dev/null\n",
        "pbar.update(2)\n",
        "pbar.refresh()\n",
        "!udocker --allow-root install > /dev/null\n",
        "pbar.update(3)\n",
        "pbar.refresh()\n",
        "!udocker --allow-root pull jlesage/firefox > /dev/null #consol/debian-xfce-vnc > /dev/null #\n",
        "pbar.update(6)\n",
        "pbar.refresh()\n",
        "!udocker --allow-root create --name=firefox jlesage/firefox > /dev/null\n",
        "pbar.update(7)\n",
        "pbar.refresh()\n",
        "!ssh-keygen -t rsa -N '' -f ~/.ssh/id_rsa <<< yes > /dev/null\n",
        "pbar.update(8)\n",
        "pbar.refresh()\n",
        "\n",
        "def runTunnel():\n",
        "  clear_output()\n",
        "  !ssh srv.us -R1:localhost:5900 -o StrictHostKeyChecking=no\n",
        "\n",
        "t=Timer(5,runTunnel)\n",
        "t.start()\n",
        "!udocker --allow-root  run -p 5900:5900 --volume=/content:/config/downloads firefox > /dev/null\n",
        "pbar.update(10)\n",
        "pbar.refresh()"
      ]
    }
  ]
}
